{
 "cells": [
  {
   "cell_type": "markdown",
   "id": "7d09a3e1",
   "metadata": {},
   "source": [
    "# 1. Declare two variables, `x` and `y`, and assign them integer values. Swap the\n",
    "values of these variables without using any temporary variable."
   ]
  },
  {
   "cell_type": "code",
   "execution_count": 18,
   "id": "021d94b3",
   "metadata": {},
   "outputs": [
    {
     "name": "stdout",
     "output_type": "stream",
     "text": [
      "swap the value\n",
      "x= 147\n",
      "y= 77\n"
     ]
    }
   ],
   "source": [
    "x = 77\n",
    "y = 147 # let x assigned 77 and y assigned 147\n",
    "x, y = y, x\n",
    "\n",
    "print(\"swap the value\")\n",
    "print(\"x=\", x)\n",
    "print(\"y=\", y)\n"
   ]
  },
  {
   "cell_type": "markdown",
   "id": "f014ec96",
   "metadata": {},
   "source": [
    "# Create a program that calculates the area of a rectangle. Take the length and\n",
    "width as inputs from the user and store them in variables. Calculate and\n",
    "display the area."
   ]
  },
  {
   "cell_type": "code",
   "execution_count": 23,
   "id": "dd012bc4",
   "metadata": {},
   "outputs": [
    {
     "name": "stdout",
     "output_type": "stream",
     "text": [
      "length of the rectangle55\n",
      "width of the rectangle44\n",
      "the area of the rectangle 2420\n"
     ]
    }
   ],
   "source": [
    "length_of_rectangle=int(input(\"length of the rectangle\")) #asking length of rectangle from user\n",
    "width_of_rectangle=int(input(\"width of the rectangle\")) #asking width of rectangle from user\n",
    "area=length_of_rectangle*width_of_rectangle #formula of rectangle\n",
    "print(\"the area of the rectangle\", area)\n"
   ]
  },
  {
   "cell_type": "markdown",
   "id": "2c941668",
   "metadata": {},
   "source": [
    "# Write a Python program that converts temperatures from Celsius to\n",
    "Fahrenheit. Take the temperature in Celsius as input, store it in a variable,\n",
    "convert it to Fahrenheit, and display the result.\n"
   ]
  },
  {
   "cell_type": "code",
   "execution_count": 29,
   "id": "d237b758",
   "metadata": {},
   "outputs": [
    {
     "name": "stdout",
     "output_type": "stream",
     "text": [
      "temperature in celsius24\n",
      "temperature in fahrenheit 75.2\n"
     ]
    }
   ],
   "source": [
    "celsius=int(input(\"temperature in celsius\")) #asking user the temperature in celsius\n",
    "conversion = (celsius * 9/5) + 32  #formula for converting from celsius to fahrenheit\n",
    "print(\"temperature in fahrenheit\", conversion) #conversion into fahrenheit"
   ]
  },
  {
   "cell_type": "markdown",
   "id": "a25e2826",
   "metadata": {},
   "source": [
    "# 1. Write a Python program that takes a string as input and prints the length of\n",
    "the string."
   ]
  },
  {
   "cell_type": "code",
   "execution_count": 40,
   "id": "b6d4f9f6",
   "metadata": {},
   "outputs": [
    {
     "name": "stdout",
     "output_type": "stream",
     "text": [
      "Enter your name:nitishgiri\n",
      "The length of the string is 10\n"
     ]
    }
   ],
   "source": [
    "a = input(\"Enter your name:\")\n",
    "length_of_a = len(a)\n",
    "print(\"The length of the string is\", length_of_a)\n"
   ]
  },
  {
   "cell_type": "markdown",
   "id": "635cab3f",
   "metadata": {},
   "source": [
    "# Create a program that takes a sentence from the user and counts the number\n",
    "of vowels (a, e, i, o, u) in the string."
   ]
  },
  {
   "cell_type": "code",
   "execution_count": 47,
   "id": "5b9c0cdf",
   "metadata": {},
   "outputs": [
    {
     "name": "stdout",
     "output_type": "stream",
     "text": [
      "Enter a sentence: my name is nitish giri\n",
      "The number of vowels in the sentence is: 7\n"
     ]
    }
   ],
   "source": [
    "sentence = input(\"Enter a sentence: \")\n",
    "vowels_count = 0\n",
    "for char in sentence:\n",
    "    if char.lower() in \"aeiou\":\n",
    "        vowels_count += 1\n",
    "print(\"The number of vowels in the sentence is:\", vowels_count)\n",
    "\n"
   ]
  },
  {
   "cell_type": "markdown",
   "id": "35c346bc",
   "metadata": {},
   "source": [
    "# Given a string, reverse the order of characters using string slicing and print\n",
    "the reversed string."
   ]
  },
  {
   "cell_type": "code",
   "execution_count": 51,
   "id": "bd31922a",
   "metadata": {},
   "outputs": [
    {
     "name": "stdout",
     "output_type": "stream",
     "text": [
      "Enter a string: nitishgiri\n",
      "Reversed: irighsitin\n"
     ]
    }
   ],
   "source": [
    "string = input(\"Enter a string: \")\n",
    "a = string[::-1]\n",
    "print(\"Reversed:\", a)\n"
   ]
  },
  {
   "cell_type": "markdown",
   "id": "dc9b6cd7",
   "metadata": {},
   "source": [
    "# Write a program that takes a string as input and checks if it is a palindrome\n",
    "(reads the same forwards and backwards)."
   ]
  },
  {
   "cell_type": "code",
   "execution_count": 1,
   "id": "2ac07c8b",
   "metadata": {},
   "outputs": [
    {
     "name": "stdout",
     "output_type": "stream",
     "text": [
      "yes\n"
     ]
    }
   ],
   "source": [
    "def spalindrome(s): # defing spalindrome\n",
    "    return s==s[:: -1]\n",
    "s=\"civic\"\n",
    "\n",
    "if spalindrome(s):\n",
    "    print(\"yes\")\n",
    "else:\n",
    "    print(\"no\")"
   ]
  },
  {
   "cell_type": "markdown",
   "id": "13c68b69",
   "metadata": {},
   "source": [
    "# Create a program that takes a string as input and removes all the spaces from\n",
    "it. Print the modified string without spaces."
   ]
  },
  {
   "cell_type": "code",
   "execution_count": 2,
   "id": "5e95eb25",
   "metadata": {},
   "outputs": [
    {
     "name": "stdout",
     "output_type": "stream",
     "text": [
      "Enter a sentence with spaces: my name is nitish giri and i am learning data science\n",
      "sentence without spaces: mynameisnitishgiriandiamlearningdatascience\n"
     ]
    }
   ],
   "source": [
    "a = input(\"Enter a sentence with spaces: \")\n",
    "a=a.replace(\" \", \"\")\n",
    "print(\"sentence without spaces:\", a)"
   ]
  },
  {
   "cell_type": "code",
   "execution_count": null,
   "id": "92ec88c2",
   "metadata": {},
   "outputs": [],
   "source": []
  }
 ],
 "metadata": {
  "kernelspec": {
   "display_name": "Python 3 (ipykernel)",
   "language": "python",
   "name": "python3"
  },
  "language_info": {
   "codemirror_mode": {
    "name": "ipython",
    "version": 3
   },
   "file_extension": ".py",
   "mimetype": "text/x-python",
   "name": "python",
   "nbconvert_exporter": "python",
   "pygments_lexer": "ipython3",
   "version": "3.11.5"
  }
 },
 "nbformat": 4,
 "nbformat_minor": 5
}
